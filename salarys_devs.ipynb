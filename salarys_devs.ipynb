{
  "nbformat": 4,
  "nbformat_minor": 0,
  "metadata": {
    "colab": {
      "provenance": [],
      "mount_file_id": "1G03RDC5BS39hpKUUa59p7z7n1XPpz23h",
      "authorship_tag": "ABX9TyPi9TbYs6BioxBDoweVkNMi",
      "include_colab_link": true
    },
    "kernelspec": {
      "name": "python3",
      "display_name": "Python 3"
    },
    "language_info": {
      "name": "python"
    }
  },
  "cells": [
    {
      "cell_type": "markdown",
      "metadata": {
        "id": "view-in-github",
        "colab_type": "text"
      },
      "source": [
        "<a href=\"https://colab.research.google.com/github/sebastianaragon/dev_salarys/blob/main/salarys_devs.ipynb\" target=\"_parent\"><img src=\"https://colab.research.google.com/assets/colab-badge.svg\" alt=\"Open In Colab\"/></a>"
      ]
    },
    {
      "cell_type": "code",
      "execution_count": null,
      "metadata": {
        "id": "YpgVnQ374H8y"
      },
      "outputs": [],
      "source": [
        "import pandas as pd\n",
        "import numpy as np\n",
        "import matplotlib.pyplot as plt"
      ]
    },
    {
      "cell_type": "code",
      "source": [
        "from google.colab import drive\n",
        "drive.mount('/content/drive')"
      ],
      "metadata": {
        "colab": {
          "base_uri": "https://localhost:8080/"
        },
        "id": "n6eBmyKH4KeG",
        "outputId": "fbd13e49-564e-468e-98f8-fa89ee16dfa0"
      },
      "execution_count": null,
      "outputs": [
        {
          "output_type": "stream",
          "name": "stdout",
          "text": [
            "Mounted at /content/drive\n"
          ]
        }
      ]
    },
    {
      "cell_type": "code",
      "source": [
        "from google.colab import files\n",
        "uploaded=files.upload()"
      ],
      "metadata": {
        "colab": {
          "base_uri": "https://localhost:8080/",
          "height": 73
        },
        "id": "rCj2MX7g4WAr",
        "outputId": "c6507eff-f43a-4094-a9e0-bb57941ebd2e"
      },
      "execution_count": null,
      "outputs": [
        {
          "output_type": "display_data",
          "data": {
            "text/plain": [
              "<IPython.core.display.HTML object>"
            ],
            "text/html": [
              "\n",
              "     <input type=\"file\" id=\"files-a2ac6908-4e02-4e5a-a1f7-da183fdc2238\" name=\"files[]\" multiple disabled\n",
              "        style=\"border:none\" />\n",
              "     <output id=\"result-a2ac6908-4e02-4e5a-a1f7-da183fdc2238\">\n",
              "      Upload widget is only available when the cell has been executed in the\n",
              "      current browser session. Please rerun this cell to enable.\n",
              "      </output>\n",
              "      <script>// Copyright 2017 Google LLC\n",
              "//\n",
              "// Licensed under the Apache License, Version 2.0 (the \"License\");\n",
              "// you may not use this file except in compliance with the License.\n",
              "// You may obtain a copy of the License at\n",
              "//\n",
              "//      http://www.apache.org/licenses/LICENSE-2.0\n",
              "//\n",
              "// Unless required by applicable law or agreed to in writing, software\n",
              "// distributed under the License is distributed on an \"AS IS\" BASIS,\n",
              "// WITHOUT WARRANTIES OR CONDITIONS OF ANY KIND, either express or implied.\n",
              "// See the License for the specific language governing permissions and\n",
              "// limitations under the License.\n",
              "\n",
              "/**\n",
              " * @fileoverview Helpers for google.colab Python module.\n",
              " */\n",
              "(function(scope) {\n",
              "function span(text, styleAttributes = {}) {\n",
              "  const element = document.createElement('span');\n",
              "  element.textContent = text;\n",
              "  for (const key of Object.keys(styleAttributes)) {\n",
              "    element.style[key] = styleAttributes[key];\n",
              "  }\n",
              "  return element;\n",
              "}\n",
              "\n",
              "// Max number of bytes which will be uploaded at a time.\n",
              "const MAX_PAYLOAD_SIZE = 100 * 1024;\n",
              "\n",
              "function _uploadFiles(inputId, outputId) {\n",
              "  const steps = uploadFilesStep(inputId, outputId);\n",
              "  const outputElement = document.getElementById(outputId);\n",
              "  // Cache steps on the outputElement to make it available for the next call\n",
              "  // to uploadFilesContinue from Python.\n",
              "  outputElement.steps = steps;\n",
              "\n",
              "  return _uploadFilesContinue(outputId);\n",
              "}\n",
              "\n",
              "// This is roughly an async generator (not supported in the browser yet),\n",
              "// where there are multiple asynchronous steps and the Python side is going\n",
              "// to poll for completion of each step.\n",
              "// This uses a Promise to block the python side on completion of each step,\n",
              "// then passes the result of the previous step as the input to the next step.\n",
              "function _uploadFilesContinue(outputId) {\n",
              "  const outputElement = document.getElementById(outputId);\n",
              "  const steps = outputElement.steps;\n",
              "\n",
              "  const next = steps.next(outputElement.lastPromiseValue);\n",
              "  return Promise.resolve(next.value.promise).then((value) => {\n",
              "    // Cache the last promise value to make it available to the next\n",
              "    // step of the generator.\n",
              "    outputElement.lastPromiseValue = value;\n",
              "    return next.value.response;\n",
              "  });\n",
              "}\n",
              "\n",
              "/**\n",
              " * Generator function which is called between each async step of the upload\n",
              " * process.\n",
              " * @param {string} inputId Element ID of the input file picker element.\n",
              " * @param {string} outputId Element ID of the output display.\n",
              " * @return {!Iterable<!Object>} Iterable of next steps.\n",
              " */\n",
              "function* uploadFilesStep(inputId, outputId) {\n",
              "  const inputElement = document.getElementById(inputId);\n",
              "  inputElement.disabled = false;\n",
              "\n",
              "  const outputElement = document.getElementById(outputId);\n",
              "  outputElement.innerHTML = '';\n",
              "\n",
              "  const pickedPromise = new Promise((resolve) => {\n",
              "    inputElement.addEventListener('change', (e) => {\n",
              "      resolve(e.target.files);\n",
              "    });\n",
              "  });\n",
              "\n",
              "  const cancel = document.createElement('button');\n",
              "  inputElement.parentElement.appendChild(cancel);\n",
              "  cancel.textContent = 'Cancel upload';\n",
              "  const cancelPromise = new Promise((resolve) => {\n",
              "    cancel.onclick = () => {\n",
              "      resolve(null);\n",
              "    };\n",
              "  });\n",
              "\n",
              "  // Wait for the user to pick the files.\n",
              "  const files = yield {\n",
              "    promise: Promise.race([pickedPromise, cancelPromise]),\n",
              "    response: {\n",
              "      action: 'starting',\n",
              "    }\n",
              "  };\n",
              "\n",
              "  cancel.remove();\n",
              "\n",
              "  // Disable the input element since further picks are not allowed.\n",
              "  inputElement.disabled = true;\n",
              "\n",
              "  if (!files) {\n",
              "    return {\n",
              "      response: {\n",
              "        action: 'complete',\n",
              "      }\n",
              "    };\n",
              "  }\n",
              "\n",
              "  for (const file of files) {\n",
              "    const li = document.createElement('li');\n",
              "    li.append(span(file.name, {fontWeight: 'bold'}));\n",
              "    li.append(span(\n",
              "        `(${file.type || 'n/a'}) - ${file.size} bytes, ` +\n",
              "        `last modified: ${\n",
              "            file.lastModifiedDate ? file.lastModifiedDate.toLocaleDateString() :\n",
              "                                    'n/a'} - `));\n",
              "    const percent = span('0% done');\n",
              "    li.appendChild(percent);\n",
              "\n",
              "    outputElement.appendChild(li);\n",
              "\n",
              "    const fileDataPromise = new Promise((resolve) => {\n",
              "      const reader = new FileReader();\n",
              "      reader.onload = (e) => {\n",
              "        resolve(e.target.result);\n",
              "      };\n",
              "      reader.readAsArrayBuffer(file);\n",
              "    });\n",
              "    // Wait for the data to be ready.\n",
              "    let fileData = yield {\n",
              "      promise: fileDataPromise,\n",
              "      response: {\n",
              "        action: 'continue',\n",
              "      }\n",
              "    };\n",
              "\n",
              "    // Use a chunked sending to avoid message size limits. See b/62115660.\n",
              "    let position = 0;\n",
              "    do {\n",
              "      const length = Math.min(fileData.byteLength - position, MAX_PAYLOAD_SIZE);\n",
              "      const chunk = new Uint8Array(fileData, position, length);\n",
              "      position += length;\n",
              "\n",
              "      const base64 = btoa(String.fromCharCode.apply(null, chunk));\n",
              "      yield {\n",
              "        response: {\n",
              "          action: 'append',\n",
              "          file: file.name,\n",
              "          data: base64,\n",
              "        },\n",
              "      };\n",
              "\n",
              "      let percentDone = fileData.byteLength === 0 ?\n",
              "          100 :\n",
              "          Math.round((position / fileData.byteLength) * 100);\n",
              "      percent.textContent = `${percentDone}% done`;\n",
              "\n",
              "    } while (position < fileData.byteLength);\n",
              "  }\n",
              "\n",
              "  // All done.\n",
              "  yield {\n",
              "    response: {\n",
              "      action: 'complete',\n",
              "    }\n",
              "  };\n",
              "}\n",
              "\n",
              "scope.google = scope.google || {};\n",
              "scope.google.colab = scope.google.colab || {};\n",
              "scope.google.colab._files = {\n",
              "  _uploadFiles,\n",
              "  _uploadFilesContinue,\n",
              "};\n",
              "})(self);\n",
              "</script> "
            ]
          },
          "metadata": {}
        },
        {
          "output_type": "stream",
          "name": "stdout",
          "text": [
            "Saving archive (2).zip to archive (2).zip\n"
          ]
        }
      ]
    },
    {
      "cell_type": "code",
      "source": [
        "df=pd.read_csv('/content/drive/MyDrive/Colab Notebooks/projects/archive (2).zip')\n",
        "df.head(3)"
      ],
      "metadata": {
        "colab": {
          "base_uri": "https://localhost:8080/",
          "height": 378
        },
        "id": "x54D75rT4kEQ",
        "outputId": "d20520d3-7a60-4fe7-fe5c-4fae9129190f"
      },
      "execution_count": null,
      "outputs": [
        {
          "output_type": "execute_result",
          "data": {
            "text/plain": [
              "   Unnamed: 0                              Metro  \\\n",
              "0           0                       Columbus, OH   \n",
              "1           1        Seattle-Tacoma-Bellevue, WA   \n",
              "2           2  Charlotte-Concord-Gastonia, NC-SC   \n",
              "\n",
              "   Mean Software Developer Salary (adjusted)  \\\n",
              "0                                   117552.0   \n",
              "1                                   117323.0   \n",
              "2                                   114122.0   \n",
              "\n",
              "   Mean Software Developer Salary (unadjusted)  \\\n",
              "0                                     108500.0   \n",
              "1                                     131167.0   \n",
              "2                                     107046.0   \n",
              "\n",
              "   Mean Unadjusted Salary (all occupations)  \\\n",
              "0                                   51260.0   \n",
              "1                                   65400.0   \n",
              "2                                   51000.0   \n",
              "\n",
              "   Number of Software Developer Jobs  Median Home Price           City  \\\n",
              "0                            13430.0           192000.0   Columbus, OH   \n",
              "1                            65760.0           491600.0    Seattle, WA   \n",
              "2                            12800.0           208500.0  Charlotte, NC   \n",
              "\n",
              "   Cost of Living avg  Rent avg  Cost of Living Plus Rent avg  \\\n",
              "0               984.8    1421.5                        2856.5   \n",
              "1              1250.7    2528.2                        4091.5   \n",
              "2               989.9    1974.5                        3221.1   \n",
              "\n",
              "   Local Purchasing Power avg  \n",
              "0                      9335.4  \n",
              "1                      8971.3  \n",
              "2                      8939.8  "
            ],
            "text/html": [
              "\n",
              "  <div id=\"df-3b9b5b30-bc86-4c64-ac95-b75a80c45926\">\n",
              "    <div class=\"colab-df-container\">\n",
              "      <div>\n",
              "<style scoped>\n",
              "    .dataframe tbody tr th:only-of-type {\n",
              "        vertical-align: middle;\n",
              "    }\n",
              "\n",
              "    .dataframe tbody tr th {\n",
              "        vertical-align: top;\n",
              "    }\n",
              "\n",
              "    .dataframe thead th {\n",
              "        text-align: right;\n",
              "    }\n",
              "</style>\n",
              "<table border=\"1\" class=\"dataframe\">\n",
              "  <thead>\n",
              "    <tr style=\"text-align: right;\">\n",
              "      <th></th>\n",
              "      <th>Unnamed: 0</th>\n",
              "      <th>Metro</th>\n",
              "      <th>Mean Software Developer Salary (adjusted)</th>\n",
              "      <th>Mean Software Developer Salary (unadjusted)</th>\n",
              "      <th>Mean Unadjusted Salary (all occupations)</th>\n",
              "      <th>Number of Software Developer Jobs</th>\n",
              "      <th>Median Home Price</th>\n",
              "      <th>City</th>\n",
              "      <th>Cost of Living avg</th>\n",
              "      <th>Rent avg</th>\n",
              "      <th>Cost of Living Plus Rent avg</th>\n",
              "      <th>Local Purchasing Power avg</th>\n",
              "    </tr>\n",
              "  </thead>\n",
              "  <tbody>\n",
              "    <tr>\n",
              "      <th>0</th>\n",
              "      <td>0</td>\n",
              "      <td>Columbus, OH</td>\n",
              "      <td>117552.0</td>\n",
              "      <td>108500.0</td>\n",
              "      <td>51260.0</td>\n",
              "      <td>13430.0</td>\n",
              "      <td>192000.0</td>\n",
              "      <td>Columbus, OH</td>\n",
              "      <td>984.8</td>\n",
              "      <td>1421.5</td>\n",
              "      <td>2856.5</td>\n",
              "      <td>9335.4</td>\n",
              "    </tr>\n",
              "    <tr>\n",
              "      <th>1</th>\n",
              "      <td>1</td>\n",
              "      <td>Seattle-Tacoma-Bellevue, WA</td>\n",
              "      <td>117323.0</td>\n",
              "      <td>131167.0</td>\n",
              "      <td>65400.0</td>\n",
              "      <td>65760.0</td>\n",
              "      <td>491600.0</td>\n",
              "      <td>Seattle, WA</td>\n",
              "      <td>1250.7</td>\n",
              "      <td>2528.2</td>\n",
              "      <td>4091.5</td>\n",
              "      <td>8971.3</td>\n",
              "    </tr>\n",
              "    <tr>\n",
              "      <th>2</th>\n",
              "      <td>2</td>\n",
              "      <td>Charlotte-Concord-Gastonia, NC-SC</td>\n",
              "      <td>114122.0</td>\n",
              "      <td>107046.0</td>\n",
              "      <td>51000.0</td>\n",
              "      <td>12800.0</td>\n",
              "      <td>208500.0</td>\n",
              "      <td>Charlotte, NC</td>\n",
              "      <td>989.9</td>\n",
              "      <td>1974.5</td>\n",
              "      <td>3221.1</td>\n",
              "      <td>8939.8</td>\n",
              "    </tr>\n",
              "  </tbody>\n",
              "</table>\n",
              "</div>\n",
              "      <button class=\"colab-df-convert\" onclick=\"convertToInteractive('df-3b9b5b30-bc86-4c64-ac95-b75a80c45926')\"\n",
              "              title=\"Convert this dataframe to an interactive table.\"\n",
              "              style=\"display:none;\">\n",
              "        \n",
              "  <svg xmlns=\"http://www.w3.org/2000/svg\" height=\"24px\"viewBox=\"0 0 24 24\"\n",
              "       width=\"24px\">\n",
              "    <path d=\"M0 0h24v24H0V0z\" fill=\"none\"/>\n",
              "    <path d=\"M18.56 5.44l.94 2.06.94-2.06 2.06-.94-2.06-.94-.94-2.06-.94 2.06-2.06.94zm-11 1L8.5 8.5l.94-2.06 2.06-.94-2.06-.94L8.5 2.5l-.94 2.06-2.06.94zm10 10l.94 2.06.94-2.06 2.06-.94-2.06-.94-.94-2.06-.94 2.06-2.06.94z\"/><path d=\"M17.41 7.96l-1.37-1.37c-.4-.4-.92-.59-1.43-.59-.52 0-1.04.2-1.43.59L10.3 9.45l-7.72 7.72c-.78.78-.78 2.05 0 2.83L4 21.41c.39.39.9.59 1.41.59.51 0 1.02-.2 1.41-.59l7.78-7.78 2.81-2.81c.8-.78.8-2.07 0-2.86zM5.41 20L4 18.59l7.72-7.72 1.47 1.35L5.41 20z\"/>\n",
              "  </svg>\n",
              "      </button>\n",
              "      \n",
              "  <style>\n",
              "    .colab-df-container {\n",
              "      display:flex;\n",
              "      flex-wrap:wrap;\n",
              "      gap: 12px;\n",
              "    }\n",
              "\n",
              "    .colab-df-convert {\n",
              "      background-color: #E8F0FE;\n",
              "      border: none;\n",
              "      border-radius: 50%;\n",
              "      cursor: pointer;\n",
              "      display: none;\n",
              "      fill: #1967D2;\n",
              "      height: 32px;\n",
              "      padding: 0 0 0 0;\n",
              "      width: 32px;\n",
              "    }\n",
              "\n",
              "    .colab-df-convert:hover {\n",
              "      background-color: #E2EBFA;\n",
              "      box-shadow: 0px 1px 2px rgba(60, 64, 67, 0.3), 0px 1px 3px 1px rgba(60, 64, 67, 0.15);\n",
              "      fill: #174EA6;\n",
              "    }\n",
              "\n",
              "    [theme=dark] .colab-df-convert {\n",
              "      background-color: #3B4455;\n",
              "      fill: #D2E3FC;\n",
              "    }\n",
              "\n",
              "    [theme=dark] .colab-df-convert:hover {\n",
              "      background-color: #434B5C;\n",
              "      box-shadow: 0px 1px 3px 1px rgba(0, 0, 0, 0.15);\n",
              "      filter: drop-shadow(0px 1px 2px rgba(0, 0, 0, 0.3));\n",
              "      fill: #FFFFFF;\n",
              "    }\n",
              "  </style>\n",
              "\n",
              "      <script>\n",
              "        const buttonEl =\n",
              "          document.querySelector('#df-3b9b5b30-bc86-4c64-ac95-b75a80c45926 button.colab-df-convert');\n",
              "        buttonEl.style.display =\n",
              "          google.colab.kernel.accessAllowed ? 'block' : 'none';\n",
              "\n",
              "        async function convertToInteractive(key) {\n",
              "          const element = document.querySelector('#df-3b9b5b30-bc86-4c64-ac95-b75a80c45926');\n",
              "          const dataTable =\n",
              "            await google.colab.kernel.invokeFunction('convertToInteractive',\n",
              "                                                     [key], {});\n",
              "          if (!dataTable) return;\n",
              "\n",
              "          const docLinkHtml = 'Like what you see? Visit the ' +\n",
              "            '<a target=\"_blank\" href=https://colab.research.google.com/notebooks/data_table.ipynb>data table notebook</a>'\n",
              "            + ' to learn more about interactive tables.';\n",
              "          element.innerHTML = '';\n",
              "          dataTable['output_type'] = 'display_data';\n",
              "          await google.colab.output.renderOutput(dataTable, element);\n",
              "          const docLink = document.createElement('div');\n",
              "          docLink.innerHTML = docLinkHtml;\n",
              "          element.appendChild(docLink);\n",
              "        }\n",
              "      </script>\n",
              "    </div>\n",
              "  </div>\n",
              "  "
            ]
          },
          "metadata": {},
          "execution_count": 5
        }
      ]
    },
    {
      "cell_type": "code",
      "source": [
        "df.rename(columns={'Metro':'citys'},inplace=True)\n",
        "df.drop('City',axis=1,inplace=True)\n",
        "df.drop('Unnamed: 0',axis=1,inplace=True)\n",
        "df['Mean Developer Salary per month']=df['Mean Software Developer Salary (adjusted)']/12\n"
      ],
      "metadata": {
        "id": "nNc0Ck4W4wDT"
      },
      "execution_count": null,
      "outputs": []
    },
    {
      "cell_type": "code",
      "source": [
        "df.columns\n"
      ],
      "metadata": {
        "colab": {
          "base_uri": "https://localhost:8080/"
        },
        "id": "X-bcwNa68ZUc",
        "outputId": "d3597d19-f1f8-453a-f72d-59ce486a6605"
      },
      "execution_count": null,
      "outputs": [
        {
          "output_type": "execute_result",
          "data": {
            "text/plain": [
              "Index(['citys', 'Mean Software Developer Salary (adjusted)',\n",
              "       'Mean Software Developer Salary (unadjusted)',\n",
              "       'Mean Unadjusted Salary (all occupations)',\n",
              "       'Number of Software Developer Jobs', 'Median Home Price',\n",
              "       'Cost of Living avg', 'Rent avg', 'Cost of Living Plus Rent avg',\n",
              "       'Local Purchasing Power avg', 'Mean Developer Salary per month'],\n",
              "      dtype='object')"
            ]
          },
          "metadata": {},
          "execution_count": 61
        }
      ]
    },
    {
      "cell_type": "code",
      "source": [
        "from pandas.core.common import index_labels_to_array\n",
        "df=df[['citys','Mean Software Developer Salary (adjusted)','Mean Developer Salary per month', 'Cost of Living Plus Rent avg','Number of Software Developer Jobs', 'Median Home Price',\n",
        "       'Cost of Living avg', 'Rent avg',\n",
        "       'Local Purchasing Power avg']]\n",
        "df.head(0)"
      ],
      "metadata": {
        "id": "RaWEbSVx8r7k",
        "colab": {
          "base_uri": "https://localhost:8080/",
          "height": 111
        },
        "outputId": "e9c2eea5-845e-4cb8-f6ec-5c0aa431c3de"
      },
      "execution_count": null,
      "outputs": [
        {
          "output_type": "execute_result",
          "data": {
            "text/plain": [
              "Empty DataFrame\n",
              "Columns: [citys, Mean Software Developer Salary (adjusted), Mean Developer Salary per month, Cost of Living Plus Rent avg, Number of Software Developer Jobs, Median Home Price, Cost of Living avg, Rent avg, Local Purchasing Power avg]\n",
              "Index: []"
            ],
            "text/html": [
              "\n",
              "  <div id=\"df-b57c52fc-ee45-4741-97c0-8f9e8ae2f13a\">\n",
              "    <div class=\"colab-df-container\">\n",
              "      <div>\n",
              "<style scoped>\n",
              "    .dataframe tbody tr th:only-of-type {\n",
              "        vertical-align: middle;\n",
              "    }\n",
              "\n",
              "    .dataframe tbody tr th {\n",
              "        vertical-align: top;\n",
              "    }\n",
              "\n",
              "    .dataframe thead th {\n",
              "        text-align: right;\n",
              "    }\n",
              "</style>\n",
              "<table border=\"1\" class=\"dataframe\">\n",
              "  <thead>\n",
              "    <tr style=\"text-align: right;\">\n",
              "      <th></th>\n",
              "      <th>citys</th>\n",
              "      <th>Mean Software Developer Salary (adjusted)</th>\n",
              "      <th>Mean Developer Salary per month</th>\n",
              "      <th>Cost of Living Plus Rent avg</th>\n",
              "      <th>Number of Software Developer Jobs</th>\n",
              "      <th>Median Home Price</th>\n",
              "      <th>Cost of Living avg</th>\n",
              "      <th>Rent avg</th>\n",
              "      <th>Local Purchasing Power avg</th>\n",
              "    </tr>\n",
              "  </thead>\n",
              "  <tbody>\n",
              "  </tbody>\n",
              "</table>\n",
              "</div>\n",
              "      <button class=\"colab-df-convert\" onclick=\"convertToInteractive('df-b57c52fc-ee45-4741-97c0-8f9e8ae2f13a')\"\n",
              "              title=\"Convert this dataframe to an interactive table.\"\n",
              "              style=\"display:none;\">\n",
              "        \n",
              "  <svg xmlns=\"http://www.w3.org/2000/svg\" height=\"24px\"viewBox=\"0 0 24 24\"\n",
              "       width=\"24px\">\n",
              "    <path d=\"M0 0h24v24H0V0z\" fill=\"none\"/>\n",
              "    <path d=\"M18.56 5.44l.94 2.06.94-2.06 2.06-.94-2.06-.94-.94-2.06-.94 2.06-2.06.94zm-11 1L8.5 8.5l.94-2.06 2.06-.94-2.06-.94L8.5 2.5l-.94 2.06-2.06.94zm10 10l.94 2.06.94-2.06 2.06-.94-2.06-.94-.94-2.06-.94 2.06-2.06.94z\"/><path d=\"M17.41 7.96l-1.37-1.37c-.4-.4-.92-.59-1.43-.59-.52 0-1.04.2-1.43.59L10.3 9.45l-7.72 7.72c-.78.78-.78 2.05 0 2.83L4 21.41c.39.39.9.59 1.41.59.51 0 1.02-.2 1.41-.59l7.78-7.78 2.81-2.81c.8-.78.8-2.07 0-2.86zM5.41 20L4 18.59l7.72-7.72 1.47 1.35L5.41 20z\"/>\n",
              "  </svg>\n",
              "      </button>\n",
              "      \n",
              "  <style>\n",
              "    .colab-df-container {\n",
              "      display:flex;\n",
              "      flex-wrap:wrap;\n",
              "      gap: 12px;\n",
              "    }\n",
              "\n",
              "    .colab-df-convert {\n",
              "      background-color: #E8F0FE;\n",
              "      border: none;\n",
              "      border-radius: 50%;\n",
              "      cursor: pointer;\n",
              "      display: none;\n",
              "      fill: #1967D2;\n",
              "      height: 32px;\n",
              "      padding: 0 0 0 0;\n",
              "      width: 32px;\n",
              "    }\n",
              "\n",
              "    .colab-df-convert:hover {\n",
              "      background-color: #E2EBFA;\n",
              "      box-shadow: 0px 1px 2px rgba(60, 64, 67, 0.3), 0px 1px 3px 1px rgba(60, 64, 67, 0.15);\n",
              "      fill: #174EA6;\n",
              "    }\n",
              "\n",
              "    [theme=dark] .colab-df-convert {\n",
              "      background-color: #3B4455;\n",
              "      fill: #D2E3FC;\n",
              "    }\n",
              "\n",
              "    [theme=dark] .colab-df-convert:hover {\n",
              "      background-color: #434B5C;\n",
              "      box-shadow: 0px 1px 3px 1px rgba(0, 0, 0, 0.15);\n",
              "      filter: drop-shadow(0px 1px 2px rgba(0, 0, 0, 0.3));\n",
              "      fill: #FFFFFF;\n",
              "    }\n",
              "  </style>\n",
              "\n",
              "      <script>\n",
              "        const buttonEl =\n",
              "          document.querySelector('#df-b57c52fc-ee45-4741-97c0-8f9e8ae2f13a button.colab-df-convert');\n",
              "        buttonEl.style.display =\n",
              "          google.colab.kernel.accessAllowed ? 'block' : 'none';\n",
              "\n",
              "        async function convertToInteractive(key) {\n",
              "          const element = document.querySelector('#df-b57c52fc-ee45-4741-97c0-8f9e8ae2f13a');\n",
              "          const dataTable =\n",
              "            await google.colab.kernel.invokeFunction('convertToInteractive',\n",
              "                                                     [key], {});\n",
              "          if (!dataTable) return;\n",
              "\n",
              "          const docLinkHtml = 'Like what you see? Visit the ' +\n",
              "            '<a target=\"_blank\" href=https://colab.research.google.com/notebooks/data_table.ipynb>data table notebook</a>'\n",
              "            + ' to learn more about interactive tables.';\n",
              "          element.innerHTML = '';\n",
              "          dataTable['output_type'] = 'display_data';\n",
              "          await google.colab.output.renderOutput(dataTable, element);\n",
              "          const docLink = document.createElement('div');\n",
              "          docLink.innerHTML = docLinkHtml;\n",
              "          element.appendChild(docLink);\n",
              "        }\n",
              "      </script>\n",
              "    </div>\n",
              "  </div>\n",
              "  "
            ]
          },
          "metadata": {},
          "execution_count": 73
        }
      ]
    },
    {
      "cell_type": "code",
      "source": [
        "mean_salary=list(df['Mean Developer Salary per month'])\n",
        "mean_cost_living=list(df['Cost of Living Plus Rent avg'])\n"
      ],
      "metadata": {
        "id": "Lgk7jFHigXCM"
      },
      "execution_count": null,
      "outputs": []
    },
    {
      "cell_type": "code",
      "source": [
        "minimo=float(100)\n",
        "indic_min=-1\n",
        "for i,(salary,costs) in enumerate(zip(mean_salary,mean_cost_living)):\n",
        "  saving=salary-costs\n",
        "  if saving>minimo:\n",
        "    minimo=saving\n",
        "    indic_min=i\n",
        "print({f'the best city to saving money per month we can get on the index {indic_min} and we can save per month {minimo} dolars'})\n",
        "\n"
      ],
      "metadata": {
        "colab": {
          "base_uri": "https://localhost:8080/"
        },
        "id": "CQdUwRC1jpHJ",
        "outputId": "c1d11cd4-728b-48f9-ac5d-5c54e97ec5a7"
      },
      "execution_count": null,
      "outputs": [
        {
          "output_type": "stream",
          "name": "stdout",
          "text": [
            "{'the best city to saving money per month we can get on the index 0 and we can save per month 6939.5 dolars'}\n"
          ]
        }
      ]
    },
    {
      "cell_type": "code",
      "source": [
        "df.sort_values('Mean Software Developer Salary (adjusted)', ascending=True)\n",
        "df\n"
      ],
      "metadata": {
        "colab": {
          "base_uri": "https://localhost:8080/",
          "height": 606
        },
        "id": "WNpFKOutApt1",
        "outputId": "5705df57-2b85-4f19-d427-9395ce5cd884"
      },
      "execution_count": null,
      "outputs": [
        {
          "output_type": "execute_result",
          "data": {
            "text/plain": [
              "                                        citys  \\\n",
              "0                                Columbus, OH   \n",
              "1                 Seattle-Tacoma-Bellevue, WA   \n",
              "2           Charlotte-Concord-Gastonia, NC-SC   \n",
              "3                        Colorado Springs, CO   \n",
              "4                                  Dayton, OH   \n",
              "..                                        ...   \n",
              "72                       Cleveland-Elyria, OH   \n",
              "73  Miami-Fort Lauderdale-West Palm Beach, FL   \n",
              "74  Miami-Fort Lauderdale-West Palm Beach, FL   \n",
              "75                                 Eugene, OR   \n",
              "76                         Urban Honolulu, HI   \n",
              "\n",
              "    Mean Software Developer Salary (adjusted)  \\\n",
              "0                                    117552.0   \n",
              "1                                    117323.0   \n",
              "2                                    114122.0   \n",
              "3                                    112118.0   \n",
              "4                                    111616.0   \n",
              "..                                        ...   \n",
              "72                                    89040.0   \n",
              "73                                    88249.0   \n",
              "74                                    88249.0   \n",
              "75                                    85912.0   \n",
              "76                                    72811.0   \n",
              "\n",
              "    Mean Developer Salary per month  Cost of Living Plus Rent avg  \\\n",
              "0                       9796.000000                        2856.5   \n",
              "1                       9776.916667                        4091.5   \n",
              "2                       9510.166667                        3221.1   \n",
              "3                       9343.166667                        3094.5   \n",
              "4                       9301.333333                        2586.0   \n",
              "..                              ...                           ...   \n",
              "72                      7420.000000                        2973.1   \n",
              "73                      7354.083333                        3775.8   \n",
              "74                      7354.083333                        3537.8   \n",
              "75                      7159.333333                        2871.7   \n",
              "76                      6067.583333                        4494.4   \n",
              "\n",
              "    Number of Software Developer Jobs  Median Home Price  Cost of Living avg  \\\n",
              "0                             13430.0           192000.0               984.8   \n",
              "1                             65760.0           491600.0              1250.7   \n",
              "2                             12800.0           208500.0               989.9   \n",
              "3                              5780.0           296500.0              1049.2   \n",
              "4                              4240.0           124100.0               961.2   \n",
              "..                                ...                ...                 ...   \n",
              "72                             8220.0           146500.0              1065.5   \n",
              "73                            13740.0           283400.0              1102.1   \n",
              "74                            13740.0           283400.0              1086.0   \n",
              "75                             1220.0           293900.0               984.0   \n",
              "76                             1590.0           678200.0              1464.5   \n",
              "\n",
              "    Rent avg  Local Purchasing Power avg  \n",
              "0     1421.5                      9335.4  \n",
              "1     2528.2                      8971.3  \n",
              "2     1974.5                      8939.8  \n",
              "3     1594.0                      8493.1  \n",
              "4     1072.1                      4887.7  \n",
              "..       ...                         ...  \n",
              "72    1355.1                      7732.9  \n",
              "73    2494.4                      5782.4  \n",
              "74    2171.9                      6252.0  \n",
              "75    1448.0                      5443.0  \n",
              "76    2498.7                      5506.6  \n",
              "\n",
              "[77 rows x 9 columns]"
            ],
            "text/html": [
              "\n",
              "  <div id=\"df-2ee43ae9-1fd7-49dd-a42b-04137f0d1fb1\">\n",
              "    <div class=\"colab-df-container\">\n",
              "      <div>\n",
              "<style scoped>\n",
              "    .dataframe tbody tr th:only-of-type {\n",
              "        vertical-align: middle;\n",
              "    }\n",
              "\n",
              "    .dataframe tbody tr th {\n",
              "        vertical-align: top;\n",
              "    }\n",
              "\n",
              "    .dataframe thead th {\n",
              "        text-align: right;\n",
              "    }\n",
              "</style>\n",
              "<table border=\"1\" class=\"dataframe\">\n",
              "  <thead>\n",
              "    <tr style=\"text-align: right;\">\n",
              "      <th></th>\n",
              "      <th>citys</th>\n",
              "      <th>Mean Software Developer Salary (adjusted)</th>\n",
              "      <th>Mean Developer Salary per month</th>\n",
              "      <th>Cost of Living Plus Rent avg</th>\n",
              "      <th>Number of Software Developer Jobs</th>\n",
              "      <th>Median Home Price</th>\n",
              "      <th>Cost of Living avg</th>\n",
              "      <th>Rent avg</th>\n",
              "      <th>Local Purchasing Power avg</th>\n",
              "    </tr>\n",
              "  </thead>\n",
              "  <tbody>\n",
              "    <tr>\n",
              "      <th>0</th>\n",
              "      <td>Columbus, OH</td>\n",
              "      <td>117552.0</td>\n",
              "      <td>9796.000000</td>\n",
              "      <td>2856.5</td>\n",
              "      <td>13430.0</td>\n",
              "      <td>192000.0</td>\n",
              "      <td>984.8</td>\n",
              "      <td>1421.5</td>\n",
              "      <td>9335.4</td>\n",
              "    </tr>\n",
              "    <tr>\n",
              "      <th>1</th>\n",
              "      <td>Seattle-Tacoma-Bellevue, WA</td>\n",
              "      <td>117323.0</td>\n",
              "      <td>9776.916667</td>\n",
              "      <td>4091.5</td>\n",
              "      <td>65760.0</td>\n",
              "      <td>491600.0</td>\n",
              "      <td>1250.7</td>\n",
              "      <td>2528.2</td>\n",
              "      <td>8971.3</td>\n",
              "    </tr>\n",
              "    <tr>\n",
              "      <th>2</th>\n",
              "      <td>Charlotte-Concord-Gastonia, NC-SC</td>\n",
              "      <td>114122.0</td>\n",
              "      <td>9510.166667</td>\n",
              "      <td>3221.1</td>\n",
              "      <td>12800.0</td>\n",
              "      <td>208500.0</td>\n",
              "      <td>989.9</td>\n",
              "      <td>1974.5</td>\n",
              "      <td>8939.8</td>\n",
              "    </tr>\n",
              "    <tr>\n",
              "      <th>3</th>\n",
              "      <td>Colorado Springs, CO</td>\n",
              "      <td>112118.0</td>\n",
              "      <td>9343.166667</td>\n",
              "      <td>3094.5</td>\n",
              "      <td>5780.0</td>\n",
              "      <td>296500.0</td>\n",
              "      <td>1049.2</td>\n",
              "      <td>1594.0</td>\n",
              "      <td>8493.1</td>\n",
              "    </tr>\n",
              "    <tr>\n",
              "      <th>4</th>\n",
              "      <td>Dayton, OH</td>\n",
              "      <td>111616.0</td>\n",
              "      <td>9301.333333</td>\n",
              "      <td>2586.0</td>\n",
              "      <td>4240.0</td>\n",
              "      <td>124100.0</td>\n",
              "      <td>961.2</td>\n",
              "      <td>1072.1</td>\n",
              "      <td>4887.7</td>\n",
              "    </tr>\n",
              "    <tr>\n",
              "      <th>...</th>\n",
              "      <td>...</td>\n",
              "      <td>...</td>\n",
              "      <td>...</td>\n",
              "      <td>...</td>\n",
              "      <td>...</td>\n",
              "      <td>...</td>\n",
              "      <td>...</td>\n",
              "      <td>...</td>\n",
              "      <td>...</td>\n",
              "    </tr>\n",
              "    <tr>\n",
              "      <th>72</th>\n",
              "      <td>Cleveland-Elyria, OH</td>\n",
              "      <td>89040.0</td>\n",
              "      <td>7420.000000</td>\n",
              "      <td>2973.1</td>\n",
              "      <td>8220.0</td>\n",
              "      <td>146500.0</td>\n",
              "      <td>1065.5</td>\n",
              "      <td>1355.1</td>\n",
              "      <td>7732.9</td>\n",
              "    </tr>\n",
              "    <tr>\n",
              "      <th>73</th>\n",
              "      <td>Miami-Fort Lauderdale-West Palm Beach, FL</td>\n",
              "      <td>88249.0</td>\n",
              "      <td>7354.083333</td>\n",
              "      <td>3775.8</td>\n",
              "      <td>13740.0</td>\n",
              "      <td>283400.0</td>\n",
              "      <td>1102.1</td>\n",
              "      <td>2494.4</td>\n",
              "      <td>5782.4</td>\n",
              "    </tr>\n",
              "    <tr>\n",
              "      <th>74</th>\n",
              "      <td>Miami-Fort Lauderdale-West Palm Beach, FL</td>\n",
              "      <td>88249.0</td>\n",
              "      <td>7354.083333</td>\n",
              "      <td>3537.8</td>\n",
              "      <td>13740.0</td>\n",
              "      <td>283400.0</td>\n",
              "      <td>1086.0</td>\n",
              "      <td>2171.9</td>\n",
              "      <td>6252.0</td>\n",
              "    </tr>\n",
              "    <tr>\n",
              "      <th>75</th>\n",
              "      <td>Eugene, OR</td>\n",
              "      <td>85912.0</td>\n",
              "      <td>7159.333333</td>\n",
              "      <td>2871.7</td>\n",
              "      <td>1220.0</td>\n",
              "      <td>293900.0</td>\n",
              "      <td>984.0</td>\n",
              "      <td>1448.0</td>\n",
              "      <td>5443.0</td>\n",
              "    </tr>\n",
              "    <tr>\n",
              "      <th>76</th>\n",
              "      <td>Urban Honolulu, HI</td>\n",
              "      <td>72811.0</td>\n",
              "      <td>6067.583333</td>\n",
              "      <td>4494.4</td>\n",
              "      <td>1590.0</td>\n",
              "      <td>678200.0</td>\n",
              "      <td>1464.5</td>\n",
              "      <td>2498.7</td>\n",
              "      <td>5506.6</td>\n",
              "    </tr>\n",
              "  </tbody>\n",
              "</table>\n",
              "<p>77 rows × 9 columns</p>\n",
              "</div>\n",
              "      <button class=\"colab-df-convert\" onclick=\"convertToInteractive('df-2ee43ae9-1fd7-49dd-a42b-04137f0d1fb1')\"\n",
              "              title=\"Convert this dataframe to an interactive table.\"\n",
              "              style=\"display:none;\">\n",
              "        \n",
              "  <svg xmlns=\"http://www.w3.org/2000/svg\" height=\"24px\"viewBox=\"0 0 24 24\"\n",
              "       width=\"24px\">\n",
              "    <path d=\"M0 0h24v24H0V0z\" fill=\"none\"/>\n",
              "    <path d=\"M18.56 5.44l.94 2.06.94-2.06 2.06-.94-2.06-.94-.94-2.06-.94 2.06-2.06.94zm-11 1L8.5 8.5l.94-2.06 2.06-.94-2.06-.94L8.5 2.5l-.94 2.06-2.06.94zm10 10l.94 2.06.94-2.06 2.06-.94-2.06-.94-.94-2.06-.94 2.06-2.06.94z\"/><path d=\"M17.41 7.96l-1.37-1.37c-.4-.4-.92-.59-1.43-.59-.52 0-1.04.2-1.43.59L10.3 9.45l-7.72 7.72c-.78.78-.78 2.05 0 2.83L4 21.41c.39.39.9.59 1.41.59.51 0 1.02-.2 1.41-.59l7.78-7.78 2.81-2.81c.8-.78.8-2.07 0-2.86zM5.41 20L4 18.59l7.72-7.72 1.47 1.35L5.41 20z\"/>\n",
              "  </svg>\n",
              "      </button>\n",
              "      \n",
              "  <style>\n",
              "    .colab-df-container {\n",
              "      display:flex;\n",
              "      flex-wrap:wrap;\n",
              "      gap: 12px;\n",
              "    }\n",
              "\n",
              "    .colab-df-convert {\n",
              "      background-color: #E8F0FE;\n",
              "      border: none;\n",
              "      border-radius: 50%;\n",
              "      cursor: pointer;\n",
              "      display: none;\n",
              "      fill: #1967D2;\n",
              "      height: 32px;\n",
              "      padding: 0 0 0 0;\n",
              "      width: 32px;\n",
              "    }\n",
              "\n",
              "    .colab-df-convert:hover {\n",
              "      background-color: #E2EBFA;\n",
              "      box-shadow: 0px 1px 2px rgba(60, 64, 67, 0.3), 0px 1px 3px 1px rgba(60, 64, 67, 0.15);\n",
              "      fill: #174EA6;\n",
              "    }\n",
              "\n",
              "    [theme=dark] .colab-df-convert {\n",
              "      background-color: #3B4455;\n",
              "      fill: #D2E3FC;\n",
              "    }\n",
              "\n",
              "    [theme=dark] .colab-df-convert:hover {\n",
              "      background-color: #434B5C;\n",
              "      box-shadow: 0px 1px 3px 1px rgba(0, 0, 0, 0.15);\n",
              "      filter: drop-shadow(0px 1px 2px rgba(0, 0, 0, 0.3));\n",
              "      fill: #FFFFFF;\n",
              "    }\n",
              "  </style>\n",
              "\n",
              "      <script>\n",
              "        const buttonEl =\n",
              "          document.querySelector('#df-2ee43ae9-1fd7-49dd-a42b-04137f0d1fb1 button.colab-df-convert');\n",
              "        buttonEl.style.display =\n",
              "          google.colab.kernel.accessAllowed ? 'block' : 'none';\n",
              "\n",
              "        async function convertToInteractive(key) {\n",
              "          const element = document.querySelector('#df-2ee43ae9-1fd7-49dd-a42b-04137f0d1fb1');\n",
              "          const dataTable =\n",
              "            await google.colab.kernel.invokeFunction('convertToInteractive',\n",
              "                                                     [key], {});\n",
              "          if (!dataTable) return;\n",
              "\n",
              "          const docLinkHtml = 'Like what you see? Visit the ' +\n",
              "            '<a target=\"_blank\" href=https://colab.research.google.com/notebooks/data_table.ipynb>data table notebook</a>'\n",
              "            + ' to learn more about interactive tables.';\n",
              "          element.innerHTML = '';\n",
              "          dataTable['output_type'] = 'display_data';\n",
              "          await google.colab.output.renderOutput(dataTable, element);\n",
              "          const docLink = document.createElement('div');\n",
              "          docLink.innerHTML = docLinkHtml;\n",
              "          element.appendChild(docLink);\n",
              "        }\n",
              "      </script>\n",
              "    </div>\n",
              "  </div>\n",
              "  "
            ]
          },
          "metadata": {},
          "execution_count": 66
        }
      ]
    },
    {
      "cell_type": "code",
      "source": [
        "data = df[['Cost of Living Plus Rent avg', 'Mean Software Developer Salary (adjusted)']]\n",
        "plt.figure(figsize=(300,100))\n",
        "grafico = df.plot(x='citys', y='Mean Software Developer Salary (adjusted)', kind='bar', color='blue')\n",
        "grafico.set_xlabel('citys')\n",
        "grafico.set_ylabel('Mean Software Developer Salary (adjusted)')\n",
        "grafico.set_title('Salarios por ciudad')\n",
        "grafico.set_xticklabels(df['citys'], rotation=90)\n",
        "grafico.set_xticks(grafico.get_xticks()[::9])\n",
        "plt.show()\n"
      ],
      "metadata": {
        "colab": {
          "base_uri": "https://localhost:8080/",
          "height": 505
        },
        "id": "L6ThE_MqBBGP",
        "outputId": "e4acccca-ab30-4126-f946-26b745bc0b27"
      },
      "execution_count": null,
      "outputs": [
        {
          "output_type": "display_data",
          "data": {
            "text/plain": [
              "<Figure size 21600x7200 with 0 Axes>"
            ]
          },
          "metadata": {}
        },
        {
          "output_type": "display_data",
          "data": {
            "text/plain": [
              "<Figure size 432x288 with 1 Axes>"
            ],
            "image/png": "[encoded data removed]"
          },
          "metadata": {
            "needs_background": "light"
          }
        }
      ]
    },
    {
      "cell_type": "code",
      "source": [
        "min=df['Mean Software Developer Salary (adjusted)'].min()\n",
        "max=df['Mean Software Developer Salary (adjusted)'].max()\n",
        "print(f\"we can see the salary goes beetwen {min} to {max} dolars\")"
      ],
      "metadata": {
        "colab": {
          "base_uri": "https://localhost:8080/"
        },
        "id": "kiuwKc3vCEpp",
        "outputId": "713b856e-78bd-43b6-9e94-fbaa936bc39c"
      },
      "execution_count": null,
      "outputs": [
        {
          "output_type": "stream",
          "name": "stdout",
          "text": [
            "we can see the salary goes beetwen 72811.0 to 117552.0 dolars\n"
          ]
        }
      ]
    },
    {
      "cell_type": "code",
      "source": [
        "df['Mean Software Developer Salary (adjusted)'].describe()"
      ],
      "metadata": {
        "colab": {
          "base_uri": "https://localhost:8080/"
        },
        "id": "0tU0bQyEV9Ip",
        "outputId": "c2db3c1c-1734-4eac-8972-764c21dd191b"
      },
      "execution_count": null,
      "outputs": [
        {
          "output_type": "execute_result",
          "data": {
            "text/plain": [
              "count        77.000000\n",
              "mean     100832.974026\n",
              "std        8064.298677\n",
              "min       72811.000000\n",
              "25%       95308.000000\n",
              "50%      101256.000000\n",
              "75%      107170.000000\n",
              "max      117552.000000\n",
              "Name: Mean Software Developer Salary (adjusted), dtype: float64"
            ]
          },
          "metadata": {},
          "execution_count": 69
        }
      ]
    },
    {
      "cell_type": "markdown",
      "source": [
        "##Lets to see the higher costs of living in the usa"
      ],
      "metadata": {
        "id": "AePkZTBHnpmj"
      }
    },
    {
      "cell_type": "code",
      "source": [
        "min=df['Cost of Living Plus Rent avg'].min()\n",
        "max=df['Cost of Living Plus Rent avg'].max()\n",
        "print(f\"we can see the Cost of living goes beetwen {min} to {max} dolars per month\")"
      ],
      "metadata": {
        "colab": {
          "base_uri": "https://localhost:8080/"
        },
        "id": "9H0tr7fsX9p5",
        "outputId": "31c528f9-8c7c-4bed-85dc-e28b8b411df3"
      },
      "execution_count": null,
      "outputs": [
        {
          "output_type": "stream",
          "name": "stdout",
          "text": [
            "we can see the Cost of living goes beetwen 2241.4 to 130097.8 dolars per month\n"
          ]
        }
      ]
    },
    {
      "cell_type": "markdown",
      "source": [
        "some values of \"Cost of Living Plus Rent avg\" arent correct "
      ],
      "metadata": {
        "id": "8ZTVjyknn8JV"
      }
    },
    {
      "cell_type": "code",
      "source": [
        "df['Cost of Living Plus Rent avg']\n",
        "\n",
        "df.drop([19,22],inplace=True)\n"
      ],
      "metadata": {
        "id": "CihIFSR81nIL"
      },
      "execution_count": null,
      "outputs": []
    },
    {
      "cell_type": "code",
      "source": [
        "min=df['Cost of Living Plus Rent avg'].min()\n",
        "max=df['Cost of Living Plus Rent avg'].max()\n",
        "print(f\"we can see the Cost of living goes beetwen {min} to {max} dolars per month\")"
      ],
      "metadata": {
        "colab": {
          "base_uri": "https://localhost:8080/"
        },
        "id": "AvZr30fRsQgr",
        "outputId": "b91eac45-bff9-48c2-9165-c6957af16077"
      },
      "execution_count": null,
      "outputs": [
        {
          "output_type": "stream",
          "name": "stdout",
          "text": [
            "we can see the Cost of living goes beetwen 2241.4 to 5290.7 dolars per month\n"
          ]
        }
      ]
    },
    {
      "cell_type": "code",
      "source": [
        "df.to_csv('datos.csv', index=False)"
      ],
      "metadata": {
        "id": "f03sMscPHg_4"
      },
      "execution_count": null,
      "outputs": []
    },
    {
      "cell_type": "markdown",
      "source": [
        "##With this project we can get the right information about what is the best place to live as a software developer, also we can see along this project what is the median of cost of living of diferent places to get a idea about how much money we can save per month, finaly the right city is Columbus with cost of living plus rent 2856.5 dollars and salary around to 9796 dolars per month and 13430 developers job offers on this place"
      ],
      "metadata": {
        "id": "5KMeizA9s2OT"
      }
    },
    {
      "cell_type": "code",
      "source": [],
      "metadata": {
        "id": "yNbg0v7Ns0Es"
      },
      "execution_count": null,
      "outputs": []
    }
  ]
}